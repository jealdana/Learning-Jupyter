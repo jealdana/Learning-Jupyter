{
 "cells": [
  {
   "cell_type": "markdown",
   "metadata": {
    "nbpresent": {
     "id": "85756894-3712-45d0-afa1-a23f7991700e"
    }
   },
   "source": [
    "<h1 align=\"center\">Jupyter Theme Edition!</h1> \n",
    "\n",
    "![image][imageAddress]\n",
    "Image source by [sdelarquier](https://github.com/sdelarquier/ipython-sublime)\n",
    "\n",
    "Why do I want to change the theme of Jupyter's template?\n",
    "Certainly it's not about the functionality domain but in practice you may want to change the theme for two reasons:\n",
    "- Practicality\n",
    "    -When you are writing in the dark you may prefer a darker theme instead of a whiter.\n",
    "- Formality and protocol\n",
    "    - Suppose you want to share your results with an external group in a semi casual meeting and you want to ensure that the name of your sponsor, your company, or even your own name is visible.\n",
    "\n",
    "Again, it's more about a topic of protocol and how you expose your work and your team in a better way.\n",
    "\n",
    "## Introduction\n",
    "Once you create your first notebook you may say that you are on the first have half of the presentation. The second part is when you turn a white plain notebook in a more sophisticated format by editing the background color or adding your company, institute or your personal logo in your presentations.\n",
    "\n",
    "The following steps show how to do it:\n",
    "\n",
    "1. [Custom folder and css](#section1)\n",
    "2. [Editing css](#section2)\n",
    "\n",
    "[imageAddress]:<https://camo.githubusercontent.com/a78becd2b747f1994a6477febc6fcba2a7adb035/68747470733a2f2f7261772e6769746875622e636f6d2f7364656c617271756965722f69707974686f6e2d7375626c696d652f6d61737465722f707265766965775f6e6f7465626f6f6b2e706e67>"
   ]
  },
  {
   "cell_type": "markdown",
   "metadata": {
    "nbpresent": {
     "id": "d5d6266c-96e4-4176-b796-fc5d4dad2191"
    }
   },
   "source": [
    "<a id=\"section1\"></a>\n",
    "# 1. Custom folder and css\n",
    "\n",
    "Jupyter version: It is only required to run the next code and go to [section 2](#Section2).  \n",
    "**Note** that for the first time it will not show up any result but it may execute the instructions if you have the editing and reading permissions. "
   ]
  },
  {
   "cell_type": "code",
   "execution_count": 18,
   "metadata": {
    "collapsed": false,
    "nbpresent": {
     "id": "e01dfcb9-ad1f-49e8-886b-69c7da92f9a8"
    }
   },
   "outputs": [
    {
     "name": "stderr",
     "output_type": "stream",
     "text": [
      "mkdir: /Users/jesusenriquealdanasigona/.jupyter/custom/: File exists\n"
     ]
    }
   ],
   "source": [
    "%%bash \n",
    "mkdir ~/.jupyter/custom/\n",
    "touch ~/.jupyter/custom/custom.css"
   ]
  },
  {
   "cell_type": "markdown",
   "metadata": {
    "nbpresent": {
     "id": "e3011727-b705-4606-9b91-7487308edf5f"
    }
   },
   "source": [
    "\n",
    "## Html version\n",
    "\n",
    "This are the Html instructions for the creation of the custom folder and .css.\n",
    "\n",
    "### Custom Folder\n",
    "First you need to create a folder called custom in Jupyter's hidden folder. To do this just go to \"Finder\", click over the \"Go\" menu and select \"Go to Folder...\" and paste this route \"~/.jupyter\". There you click over the finder's new window the right button of the mouse or pad and select the option \"create new folder\" and type \"custom\" as the name of the new folder.\n",
    "\n",
    "### custom .css\n",
    "\n",
    "You can create a blank document with the name \"custom\"in \"Text Editor\" default Mac's app and save it with extension \".css\" "
   ]
  },
  {
   "cell_type": "markdown",
   "metadata": {
    "nbpresent": {
     "id": "8e69eda4-5a53-44ee-88f4-75271f6446b2"
    }
   },
   "source": [
    "<a id='Section2'></a>\n",
    "# 2. Css edition\n",
    "\n",
    "## Check of existence\n",
    "\n",
    "First we need to check that everything is all right by running the next code in jupyter interface. If there's no message then there's no problem and we can continue. Otherwise the creation of the folder or file was not successful."
   ]
  },
  {
   "cell_type": "code",
   "execution_count": 20,
   "metadata": {
    "collapsed": false,
    "nbpresent": {
     "id": "51245de6-ffae-4386-9cef-53e9161a429c"
    }
   },
   "outputs": [],
   "source": [
    "cat ~/.jupyter/custom/custom.css"
   ]
  },
  {
   "cell_type": "markdown",
   "metadata": {
    "nbpresent": {
     "id": "ea5a9111-2e68-43e4-a73b-fc1e60da53f5"
    }
   },
   "source": [
    "## Edition of css \n",
    "\n",
    "Let's create the content to modify in jupyter's interface.  \n",
    "**Requirements**:  \n",
    "For this part you will need the following image for this [example][nanoHUBimage] in the same folder of the custom.css\n",
    "\n",
    "![nanoHUBimage1](https://github.com/jealdana/Learning-Jupyter/blob/Jupyter101/Jupyter%20Theme/nanoHUB_logo_color.png?raw=true)\n",
    "\n",
    "[nanoHUBimage]:<https://github.com/jealdana/Learning-Jupyter/blob/Jupyter101/Jupyter%20Theme/nanoHUB_logo_color.png>"
   ]
  },
  {
   "cell_type": "code",
   "execution_count": 53,
   "metadata": {
    "collapsed": false,
    "nbpresent": {
     "id": "dc2e0b3f-2d31-4180-8afd-6b9f89dd30cf"
    }
   },
   "outputs": [
    {
     "name": "stdout",
     "output_type": "stream",
     "text": [
      "Overwriting /Users/jesusenriquealdanasigona/.jupyter/custom/custom.css\n"
     ]
    }
   ],
   "source": [
    "%%file ~/.jupyter/custom/custom.css\n",
    "#header { background-image: url(https://github.com/jealdana/Learning-Jupyter/blob/Jupyter101/Jupyter%20Theme/nanoHUB_logo_color.png?raw=true);\n",
    "    background-repeat: no-repeat;\n",
    "    background-position: 85% 0%;\n",
    "    background-size: 10%;\n",
    "    padding-right:40%;}\n",
    "        \n",
    "\n",
    "div.CodeMirror {\n",
    "background: url('https://github.com/jealdana/Learning-Jupyter/blob/Jupyter101/Jupyter%20Theme/nanoHUB_logo_color.png?raw=true') repeat-y top right;\n",
    "background-size: 15%;\n",
    "background-repeat: no-repeat;\n",
    "padding-right:10%;\n",
    "}\n"
   ]
  },
  {
   "cell_type": "markdown",
   "metadata": {
    "nbpresent": {
     "id": "231bbf33-6517-49af-a794-887fd72ed408"
    }
   },
   "source": [
    "Now we can check if there"
   ]
  },
  {
   "cell_type": "code",
   "execution_count": 54,
   "metadata": {
    "collapsed": false,
    "nbpresent": {
     "id": "ecf79e47-a73d-47db-bb40-b40a19e34d25"
    },
    "scrolled": true
   },
   "outputs": [
    {
     "name": "stdout",
     "output_type": "stream",
     "text": [
      "#header { background-image: url(https://github.com/jealdana/Learning-Jupyter/blob/Jupyter101/Jupyter%20Theme/nanoHUB_logo_color.png?raw=true);\r\n",
      "    background-repeat: no-repeat;\r\n",
      "    background-position: 85% 0%;\r\n",
      "    background-size: 10%;\r\n",
      "    padding-right:40%;}\r\n",
      "        \r\n",
      "\r\n",
      "div.CodeMirror {\r\n",
      "background: url('https://github.com/jealdana/Learning-Jupyter/blob/Jupyter101/Jupyter%20Theme/nanoHUB_logo_color.png?raw=true') repeat-y top right;\r\n",
      "background-size: 15%;\r\n",
      "background-repeat: no-repeat;\r\n",
      "padding-right:10%;\r\n",
      "}"
     ]
    }
   ],
   "source": [
    "cat ~/.jupyter/custom/custom.css"
   ]
  },
  {
   "cell_type": "markdown",
   "metadata": {
    "collapsed": false,
    "nbpresent": {
     "id": "5f7ceb8e-a7b4-4d1a-a6a9-3e712df374b5"
    }
   },
   "source": [
    "### Examples of Jupyter Themes\n",
    "\n",
    "Some examples are:\n",
    "\n",
    "[sherifsoliman][ex1]\n",
    "[ex1]:<http://sherifsoliman.com/2016/01/11/theming-ipython-jupyter-notebook/>"
   ]
  },
  {
   "cell_type": "markdown",
   "metadata": {
    "nbpresent": {
     "id": "ba408116-7d25-4571-b8c4-d794f27c982f"
    }
   },
   "source": [
    "Examples of CSS are\n",
    "\n",
    "[images tutorial][ex1]\n",
    "\n",
    "[ex1]:<http://www.w3schools.com/css/css3_images.asp>"
   ]
  },
  {
   "cell_type": "markdown",
   "metadata": {
    "nbpresent": {
     "id": "e1847edf-24de-4cfe-8cd6-39cdeb1b4bf9"
    }
   },
   "source": [
    "Reference  \n",
    "[updated](http://sherifsoliman.com/2016/01/11/theming-ipython-jupyter-notebook/)  \n",
    "[Henry Hammond , \"Theming IPython\"](http://nbviewer.jupyter.org/github/Carreau/posts/blob/master/Blog1.ipynb#The-answer-:-custom.css)  \n",
    "[zulko](https://zulko.wordpress.com/2013/04/14/customize-your-ipython-notebook-with-css/)"
   ]
  }
 ],
 "metadata": {
  "anaconda-cloud": {},
  "kernelspec": {
   "display_name": "Python [conda root]",
   "language": "python",
   "name": "conda-root-py"
  },
  "language_info": {
   "codemirror_mode": {
    "name": "ipython",
    "version": 2
   },
   "file_extension": ".py",
   "mimetype": "text/x-python",
   "name": "python",
   "nbconvert_exporter": "python",
   "pygments_lexer": "ipython2",
   "version": "2.7.12"
  },
  "nbpresent": {
   "slides": {
    "05b59d2c-de8e-493d-9a51-6243cd8f1509": {
     "id": "05b59d2c-de8e-493d-9a51-6243cd8f1509",
     "prev": "0cc0d155-03ae-47cf-bb97-5b4dcba7279e",
     "regions": {
      "1b30ea2c-0376-4629-bf28-e88e4632770c": {
       "attrs": {
        "height": 0.8,
        "width": 0.8,
        "x": 0.1,
        "y": 0.1
       },
       "content": {
        "cell": "51245de6-ffae-4386-9cef-53e9161a429c",
        "part": "whole"
       },
       "id": "1b30ea2c-0376-4629-bf28-e88e4632770c"
      }
     }
    },
    "0cc0d155-03ae-47cf-bb97-5b4dcba7279e": {
     "id": "0cc0d155-03ae-47cf-bb97-5b4dcba7279e",
     "prev": "4e298723-d8cb-4226-9ddb-90aeeb262d75",
     "regions": {
      "014de23b-a148-40a4-a9b6-e1b8bdf20a0c": {
       "attrs": {
        "height": 0.8,
        "width": 0.8,
        "x": 0.1,
        "y": 0.1
       },
       "content": {
        "cell": "8e69eda4-5a53-44ee-88f4-75271f6446b2",
        "part": "whole"
       },
       "id": "014de23b-a148-40a4-a9b6-e1b8bdf20a0c"
      }
     }
    },
    "149446c3-4c19-498d-a3af-03317d7e8c80": {
     "id": "149446c3-4c19-498d-a3af-03317d7e8c80",
     "prev": "70fd52f2-31a6-458d-953e-222ff62cf91f",
     "regions": {
      "e0f936cf-a163-4cb4-a335-9bf454f84c76": {
       "attrs": {
        "height": 0.8,
        "width": 0.8,
        "x": 0.1,
        "y": 0.1
       },
       "content": {
        "cell": "dc2e0b3f-2d31-4180-8afd-6b9f89dd30cf",
        "part": "whole"
       },
       "id": "e0f936cf-a163-4cb4-a335-9bf454f84c76"
      }
     }
    },
    "249ade12-a119-4c6f-a5a8-0cc37c90f363": {
     "id": "249ade12-a119-4c6f-a5a8-0cc37c90f363",
     "prev": null,
     "regions": {
      "706a851f-2a65-4631-9adf-19d1d8595d36": {
       "attrs": {
        "height": 0.8,
        "width": 0.8,
        "x": 0.1,
        "y": 0.1
       },
       "content": {
        "cell": "85756894-3712-45d0-afa1-a23f7991700e",
        "part": "whole"
       },
       "id": "706a851f-2a65-4631-9adf-19d1d8595d36"
      }
     }
    },
    "4e298723-d8cb-4226-9ddb-90aeeb262d75": {
     "id": "4e298723-d8cb-4226-9ddb-90aeeb262d75",
     "prev": "72ea301c-1eb9-459b-bc19-c129f60ce326",
     "regions": {
      "d08fc6a4-f0df-42e0-8ff4-5c3acaf25bc4": {
       "attrs": {
        "height": 0.8,
        "width": 0.8,
        "x": 0.1,
        "y": 0.1
       },
       "content": {
        "cell": "e3011727-b705-4606-9b91-7487308edf5f",
        "part": "whole"
       },
       "id": "d08fc6a4-f0df-42e0-8ff4-5c3acaf25bc4"
      }
     }
    },
    "567d8543-dd6d-4b6c-abc6-75e86047fef5": {
     "id": "567d8543-dd6d-4b6c-abc6-75e86047fef5",
     "prev": "89ef2499-7e6b-4e24-a256-347ddf59987c",
     "regions": {
      "0cc31ee5-4337-49b7-a0a9-77457d24392f": {
       "attrs": {
        "height": 0.8,
        "width": 0.8,
        "x": 0.1,
        "y": 0.1
       },
       "content": {
        "cell": "ecf79e47-a73d-47db-bb40-b40a19e34d25",
        "part": "whole"
       },
       "id": "0cc31ee5-4337-49b7-a0a9-77457d24392f"
      }
     }
    },
    "70fd52f2-31a6-458d-953e-222ff62cf91f": {
     "id": "70fd52f2-31a6-458d-953e-222ff62cf91f",
     "prev": "05b59d2c-de8e-493d-9a51-6243cd8f1509",
     "regions": {
      "dde5b036-b76e-4dc4-b2f6-8cc2bf151aa3": {
       "attrs": {
        "height": 0.8,
        "width": 0.8,
        "x": 0.1,
        "y": 0.1
       },
       "content": {
        "cell": "ea5a9111-2e68-43e4-a73b-fc1e60da53f5",
        "part": "whole"
       },
       "id": "dde5b036-b76e-4dc4-b2f6-8cc2bf151aa3"
      }
     }
    },
    "72ea301c-1eb9-459b-bc19-c129f60ce326": {
     "id": "72ea301c-1eb9-459b-bc19-c129f60ce326",
     "prev": "fa5de135-b40d-4f1b-b5ce-c01d00ae6c26",
     "regions": {
      "799e91d2-077a-467b-96cf-1b9caeb8be7d": {
       "attrs": {
        "height": 0.8,
        "width": 0.8,
        "x": 0.1,
        "y": 0.1
       },
       "content": {
        "cell": "e01dfcb9-ad1f-49e8-886b-69c7da92f9a8",
        "part": "whole"
       },
       "id": "799e91d2-077a-467b-96cf-1b9caeb8be7d"
      }
     }
    },
    "7952d944-edd5-48f3-9f67-bd5db5eaf29c": {
     "id": "7952d944-edd5-48f3-9f67-bd5db5eaf29c",
     "prev": "a47d52d1-c18a-436b-99bd-e86b125dbf73",
     "regions": {
      "8048772a-05e3-4469-8ec3-499e08c2351f": {
       "attrs": {
        "height": 0.8,
        "width": 0.8,
        "x": 0.1,
        "y": 0.1
       },
       "content": {
        "cell": "ba408116-7d25-4571-b8c4-d794f27c982f",
        "part": "whole"
       },
       "id": "8048772a-05e3-4469-8ec3-499e08c2351f"
      }
     }
    },
    "89ef2499-7e6b-4e24-a256-347ddf59987c": {
     "id": "89ef2499-7e6b-4e24-a256-347ddf59987c",
     "prev": "149446c3-4c19-498d-a3af-03317d7e8c80",
     "regions": {
      "1ff7b193-9015-4523-8533-62f6b92e5e1d": {
       "attrs": {
        "height": 0.8,
        "width": 0.8,
        "x": 0.1,
        "y": 0.1
       },
       "content": {
        "cell": "231bbf33-6517-49af-a794-887fd72ed408",
        "part": "whole"
       },
       "id": "1ff7b193-9015-4523-8533-62f6b92e5e1d"
      }
     }
    },
    "9ebc97d5-b605-4cb5-a374-ef5d4c8fe9b7": {
     "id": "9ebc97d5-b605-4cb5-a374-ef5d4c8fe9b7",
     "prev": "7952d944-edd5-48f3-9f67-bd5db5eaf29c",
     "regions": {
      "3d840c59-5f8f-4278-a681-6203a9b9896e": {
       "attrs": {
        "height": 0.8,
        "width": 0.8,
        "x": 0.1,
        "y": 0.1
       },
       "content": {
        "cell": "e1847edf-24de-4cfe-8cd6-39cdeb1b4bf9",
        "part": "whole"
       },
       "id": "3d840c59-5f8f-4278-a681-6203a9b9896e"
      }
     }
    },
    "a47d52d1-c18a-436b-99bd-e86b125dbf73": {
     "id": "a47d52d1-c18a-436b-99bd-e86b125dbf73",
     "prev": "567d8543-dd6d-4b6c-abc6-75e86047fef5",
     "regions": {
      "a84c8ed1-6a23-46ea-8683-e1d3aaa6adce": {
       "attrs": {
        "height": 0.8,
        "width": 0.8,
        "x": 0.1,
        "y": 0.1
       },
       "content": {
        "cell": "5f7ceb8e-a7b4-4d1a-a6a9-3e712df374b5",
        "part": "whole"
       },
       "id": "a84c8ed1-6a23-46ea-8683-e1d3aaa6adce"
      }
     }
    },
    "fa5de135-b40d-4f1b-b5ce-c01d00ae6c26": {
     "id": "fa5de135-b40d-4f1b-b5ce-c01d00ae6c26",
     "prev": "249ade12-a119-4c6f-a5a8-0cc37c90f363",
     "regions": {
      "25eeee52-ca2b-4a64-8b35-0c30171cacee": {
       "attrs": {
        "height": 0.8,
        "width": 0.8,
        "x": 0.1,
        "y": 0.1
       },
       "content": {
        "cell": "d5d6266c-96e4-4176-b796-fc5d4dad2191",
        "part": "whole"
       },
       "id": "25eeee52-ca2b-4a64-8b35-0c30171cacee"
      }
     }
    }
   },
   "themes": {}
  }
 },
 "nbformat": 4,
 "nbformat_minor": 1
}
