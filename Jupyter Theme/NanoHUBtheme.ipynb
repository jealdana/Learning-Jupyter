{
 "cells": [
  {
   "cell_type": "markdown",
   "metadata": {},
   "source": []
  },
  {
   "cell_type": "markdown",
   "metadata": {},
   "source": [
    "# 1. Custom folder and css\n",
    "\n",
    "Jupyter version: It is only required to run the next code and go to [section 2](#Section2).\n"
   ]
  },
  {
   "cell_type": "code",
   "execution_count": 14,
   "metadata": {
    "collapsed": false
   },
   "outputs": [],
   "source": [
    "%%bash \n",
    "mkdir ~/.jupyter/custom/\n",
    "touch ~/.jupyter/custom/custom.css"
   ]
  },
  {
   "cell_type": "markdown",
   "metadata": {},
   "source": [
    "\n",
    "## Html version\n",
    "\n",
    "This are the Html instructions for the creation of the custom folder and .css.\n",
    "\n",
    "### Custom Folder\n",
    "First you need to create a folder called custom in Jupyter's hidden folder. To do this just go to \"Finder\", click over the \"Go\" menu and select \"Go to Folder...\" and paste this route \"~/.jupyter\". There you click over the finder's new window the right button of the mouse or pad and select the option \"create new folder\" and type \"custom\" as the name of the new folder.\n",
    "\n",
    "### custom .css\n",
    "\n",
    "You can create a blank document with the name \"custom\"in \"Text Editor\" default Mac's app and save it with extension \".css\" "
   ]
  },
  {
   "cell_type": "markdown",
   "metadata": {},
   "source": [
    "<a id='Section2'></a>\n",
    "# 2. Css edition\n",
    "\n",
    "## Check of existence\n",
    "\n",
    "First we need to check that everything is all right by running the next code in jupyter interface. If there's no message then there's no problem and we can continue. Otherwise the creation of the folder or file was not successful "
   ]
  },
  {
   "cell_type": "code",
   "execution_count": 17,
   "metadata": {
    "collapsed": false
   },
   "outputs": [],
   "source": [
    "cat ~/.jupyter/custom/custom.css"
   ]
  },
  {
   "cell_type": "markdown",
   "metadata": {},
   "source": [
    "## Edition of css \n",
    "\n",
    "Let's create the content to modify in jupyter's interface. For this part you "
   ]
  },
  {
   "cell_type": "code",
   "execution_count": 6,
   "metadata": {
    "collapsed": false
   },
   "outputs": [
    {
     "name": "stdout",
     "output_type": "stream",
     "text": [
      "Overwriting /Users/jesusenriquealdanasigona/.jupyter/custom/custom.css\n"
     ]
    }
   ],
   "source": [
    "%%file ~/.jupyter/custom/custom.css\n",
    "#header { background-image: url(\"nanoHUB_logo_color.png\");\n",
    "    background-repeat: no-repeat;\n",
    "    background-position: right;  }\n",
    "\n",
    "#<img src=\"nanoHUB_logo_color.png” alt=“NanoHUB”>\n",
    "#"
   ]
  },
  {
   "cell_type": "markdown",
   "metadata": {},
   "source": [
    "Now we can check if there"
   ]
  },
  {
   "cell_type": "code",
   "execution_count": 7,
   "metadata": {
    "collapsed": false,
    "scrolled": true
   },
   "outputs": [
    {
     "name": "stdout",
     "output_type": "stream",
     "text": [
      "#header { background-image: url(\"nanoHUB_logo_color.png\");\r\n",
      "    background-repeat: no-repeat;\r\n",
      "    background-position: right;  }\r\n",
      "\r\n",
      "#<img src=\"nanoHUB_logo_color.png” alt=“NanoHUB”>\r\n",
      "#"
     ]
    }
   ],
   "source": [
    "cat ~/.jupyter/custom/custom.css"
   ]
  },
  {
   "cell_type": "code",
   "execution_count": 12,
   "metadata": {
    "collapsed": false
   },
   "outputs": [
    {
     "name": "stdout",
     "output_type": "stream",
     "text": [
      "<!DOCTYPE HTML>\n",
      "<html>\n",
      "\n",
      "<head>\n",
      "    <meta charset=\"utf-8\">\n",
      "\n",
      "    <title>Jupyter Notebook</title>\n",
      "    <link rel=\"shortcut icon\" type=\"image/x-icon\" href=\"/static/base/images/favicon.ico?v=30780f272ab4aac64aa073a841546240\">\n",
      "    <meta http-equiv=\"X-UA-Compatible\" content=\"IE=edge\" />\n",
      "    <link rel=\"stylesheet\" href=\"/static/components/jquery-ui/themes/smoothness/jquery-ui.min.css?v=9b2c8d3489227115310662a343fce11c\" type=\"text/css\" />\n",
      "    <link rel=\"stylesheet\" href=\"/static/components/jquery-typeahead/dist/jquery.typeahead.min.css?v=7afb461de36accb1aa133a1710f5bc56\" type=\"text/css\" />\n",
      "    <meta name=\"viewport\" content=\"width=device-width, initial-scale=1.0\">\n",
      "    \n",
      "    \n",
      "\n",
      "    <link rel=\"stylesheet\" href=\"/static/style/style.min.css?v=f6c09475baf6beabd41f8fe518601204\" type=\"text/css\"/>\n",
      "    \n",
      "<style type=\"text/css\">\n",
      "/* disable initial hide */\n",
      "div#header, div#site {\n",
      "    display: block;\n",
      "}\n",
      "</style>\n",
      "\n",
      "    <link rel=\"stylesheet\" href=\"/custom/custom.css\" type=\"text/css\" />\n",
      "    <script src=\"/static/components/es6-promise/promise.min.js?v=f004a16cb856e0ff11781d01ec5ca8fe\" type=\"text/javascript\" charset=\"utf-8\"></script>\n",
      "    <script src=\"/static/components/requirejs/require.js?v=6da8be361b9ee26c5e721e76c6d4afce\" type=\"text/javascript\" charset=\"utf-8\"></script>\n",
      "    <script>\n",
      "      require.config({\n",
      "          \n",
      "          urlArgs: \"v=20161103160421\",\n",
      "          \n",
      "          baseUrl: '/static/',\n",
      "          paths: {\n",
      "            'auth/js/main': 'auth/js/main.min',\n",
      "            custom : '/custom',\n",
      "            nbextensions : '/nbextensions',\n",
      "            kernelspecs : '/kernelspecs',\n",
      "            underscore : 'components/underscore/underscore-min',\n",
      "            backbone : 'components/backbone/backbone-min',\n",
      "            jquery: 'components/jquery/jquery.min',\n",
      "            bootstrap: 'components/bootstrap/js/bootstrap.min',\n",
      "            bootstraptour: 'components/bootstrap-tour/build/js/bootstrap-tour.min',\n",
      "            'jquery-ui': 'components/jquery-ui/ui/minified/jquery-ui.min',\n",
      "            moment: 'components/moment/moment',\n",
      "            codemirror: 'components/codemirror',\n",
      "            termjs: 'components/term.js/src/term',\n",
      "            typeahead: 'components/jquery-typeahead/dist/jquery.typeahead'\n",
      "          },\n",
      "\t  map: { // for backward compatibility\n",
      "\t    \"*\": {\n",
      "\t\t\"jqueryui\": \"jquery-ui\",\n",
      "\t    }\n",
      "\t  },\n",
      "          shim: {\n",
      "            typeahead: {\n",
      "              deps: [\"jquery\"],\n",
      "              exports: \"typeahead\"\n",
      "            },\n",
      "            underscore: {\n",
      "              exports: '_'\n",
      "            },\n",
      "            backbone: {\n",
      "              deps: [\"underscore\", \"jquery\"],\n",
      "              exports: \"Backbone\"\n",
      "            },\n",
      "            bootstrap: {\n",
      "              deps: [\"jquery\"],\n",
      "              exports: \"bootstrap\"\n",
      "            },\n",
      "            bootstraptour: {\n",
      "              deps: [\"bootstrap\"],\n",
      "              exports: \"Tour\"\n",
      "            },\n",
      "            \"jquery-ui\": {\n",
      "              deps: [\"jquery\"],\n",
      "              exports: \"$\"\n",
      "            }\n",
      "          },\n",
      "          waitSeconds: 30,\n",
      "      });\n",
      "\n",
      "      require.config({\n",
      "          map: {\n",
      "              '*':{\n",
      "                'contents': 'services/contents',\n",
      "              }\n",
      "          }\n",
      "      });\n",
      "\n",
      "      define(\"bootstrap\", function () {\n",
      "          return window.$;\n",
      "      });\n",
      "\n",
      "      define(\"jquery\", function () {\n",
      "          return window.$;\n",
      "      });\n",
      "\n",
      "      define(\"jqueryui\", function () {\n",
      "          return window.$;\n",
      "      });\n",
      "\n",
      "      define(\"jquery-ui\", function () {\n",
      "          return window.$;\n",
      "      });\n",
      "      // error-catching custom.js shim.\n",
      "      define(\"custom\", function (require, exports, module) {\n",
      "          try {\n",
      "              var custom = require('custom/custom');\n",
      "              console.debug('loaded custom.js');\n",
      "              return custom;\n",
      "          } catch (e) {\n",
      "              console.error(\"error loading custom.js\", e);\n",
      "              return {};\n",
      "          }\n",
      "      })\n",
      "    </script>\n",
      "\n",
      "    \n",
      "    \n",
      "\n",
      "</head>\n",
      "\n",
      "<body class=\"\" >\n",
      "\n",
      "<noscript>\n",
      "    <div id='noscript'>\n",
      "      Jupyter Notebook requires JavaScript.<br>\n",
      "      Please enable it to proceed.\n",
      "  </div>\n",
      "</noscript>\n",
      "\n",
      "<div id=\"header\">\n",
      "  <div id=\"header-container\" class=\"container\">\n",
      "  <div id=\"ipython_notebook\" class=\"nav navbar-brand pull-left\"><a href=\"/tree\" title='dashboard'><img src='/static/base/images/logo.png?v=7c4597ba713d804995e8f8dad448a397' alt='Jupyter Notebook'/></a></div>\n",
      "\n",
      "  \n",
      "  \n",
      "  \n",
      "\n",
      "\n",
      "  \n",
      "\n",
      "  \n",
      "  \n",
      "  </div>\n",
      "  <div class=\"header-bar\"></div>\n",
      "\n",
      "  \n",
      "  \n",
      "</div>\n",
      "\n",
      "<div id=\"site\">\n",
      "\n",
      "\n",
      "<div class=\"error\">\n",
      "    \n",
      "    <h1>404 : Not Found</h1>\n",
      "    \n",
      "    \n",
      "<p>You are requesting a page that does not exist!</p>\n",
      "\n",
      "</header>\n",
      "\n",
      "\n",
      "</div>\n",
      "\n",
      "\n",
      "\n",
      "\n",
      "\n",
      "\n",
      "\n",
      "</body>\n",
      "\n",
      "</html>"
     ]
    },
    {
     "name": "stderr",
     "output_type": "stream",
     "text": [
      "  % Total    % Received % Xferd  Average Speed   Time    Time     Time  Current\n",
      "                                 Dload  Upload   Total   Spent    Left  Speed\n",
      "\r",
      "  0     0    0     0    0     0      0      0 --:--:-- --:--:-- --:--:--     0\r",
      "100  4537  100  4537    0     0   188k      0 --:--:-- --:--:-- --:--:--  221k\n"
     ]
    }
   ],
   "source": [
    "%%bash \n",
    "curl  --noproxy localhost  http://localhost:8888/custom/custom.css"
   ]
  },
  {
   "cell_type": "markdown",
   "metadata": {},
   "source": [
    "Reference\n",
    "[updated](http://sherifsoliman.com/2016/01/11/theming-ipython-jupyter-notebook/)\n",
    "[Henry Hammond , \"Theming IPython\"](http://nbviewer.jupyter.org/github/Carreau/posts/blob/master/Blog1.ipynb#The-answer-:-custom.css)"
   ]
  }
 ],
 "metadata": {
  "anaconda-cloud": {},
  "kernelspec": {
   "display_name": "Python [conda root]",
   "language": "python",
   "name": "conda-root-py"
  },
  "language_info": {
   "codemirror_mode": {
    "name": "ipython",
    "version": 2
   },
   "file_extension": ".py",
   "mimetype": "text/x-python",
   "name": "python",
   "nbconvert_exporter": "python",
   "pygments_lexer": "ipython2",
   "version": "2.7.12"
  }
 },
 "nbformat": 4,
 "nbformat_minor": 1
}
