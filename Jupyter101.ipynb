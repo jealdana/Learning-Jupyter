{
 "cells": [
  {
   "cell_type": "markdown",
   "metadata": {
    "nbpresent": {
     "id": "2239047f-63a6-4151-b32b-c483f27312b4"
    }
   },
   "source": [
    "# Jupyter Introduction\n",
    "\n",
    "![jupImage](http://jupyter.org/assets/jupyterpreview.png)"
   ]
  },
  {
   "cell_type": "markdown",
   "metadata": {
    "nbpresent": {
     "id": "d6706444-621d-4125-afcf-fd7d5fdad682"
    }
   },
   "source": [
    "This notebook has the purpose to introduce concepts of Markdown and LaTex in order to create a Jupyter(iPython) notebook. \n",
    "<a id='index'></a>\n",
    "## Index\n",
    "1. [Installation Process](#installation)\n",
    "2. [Index creation](#indexCreation)\n",
    "3. [Headings](#headings)\n",
    "4. [Font Styles](#font)\n",
    "5. [list](#listLink)\n",
    "6. [link](#linkLink)\n",
    "7. [images](#imagesLink)\n",
    "8. [videos](#videosLink)\n",
    "9. [Quotes](#quotesLink)\n",
    "10. [Embedded code](#codeLink)\n",
    "11. [LaTex](#LatexLink)\n",
    "    1. [Greek letters](#GLLink)\n",
    "12. [Tables](#tables)\n",
    "13. [HTML code](#htmlCode)\n",
    "14. [Presentation](#presentationLink)\n",
    "15. [Interactivity](#interactive)\n",
    "15. [Further reading](#FRLink)"
   ]
  },
  {
   "cell_type": "markdown",
   "metadata": {
    "nbpresent": {
     "id": "c97b6acf-0a7f-437c-8da5-f287f6207ba7"
    }
   },
   "source": [
    "<a id='installation'></a>  \n",
    "## Installation Process  \n",
    "\n",
    "There are two:\n",
    "\n",
    "1. Download Anaconda.\n",
    " 1. We recommend downloading Anaconda’s latest Python 3 version (currently Python 3.5).\n",
    "2. By using pip you can install also Jupyter.\n",
    "\n",
    "###### [Go to Index](#index)  "
   ]
  },
  {
   "cell_type": "markdown",
   "metadata": {
    "nbpresent": {
     "id": "2dc7d44f-3f33-43a8-ac96-36a8d4255996"
    }
   },
   "source": [
    "<a id='indexCreation'></a>\n",
    "## Index creation\n",
    "\n",
    "\n"
   ]
  },
  {
   "cell_type": "markdown",
   "metadata": {
    "nbpresent": {
     "id": "4eb63123-ae03-49f7-be92-ea0afb706866"
    }
   },
   "source": [
    "## Headings\n",
    "<a id='headings'></a>  \n",
    "\n",
    "There are 6 diferent size of headers.\n",
    "\n",
    "# H1\n",
    "## H2\n",
    "### H3\n",
    "#### H4\n",
    "##### H5\n",
    "###### H6\n",
    "\n",
    "This is the code for the preveous example (you will need to add a space after the #s):\n",
    "\n",
    "#H1\n",
    "##H2\n",
    "###H3\n",
    "####H4\n",
    "#####H5\n",
    "######H6\n",
    "\n",
    "###### [Go to Index](#index)  \n",
    "---"
   ]
  },
  {
   "cell_type": "markdown",
   "metadata": {
    "nbpresent": {
     "id": "cb65828d-984c-4a2d-99d2-959278ab24e9"
    }
   },
   "source": [
    "<a id='font'></a>  \n",
    "## Font Styles\n",
    "\n",
    "You can use **Bold font**, *Italic*, or ~~Scratched Text~~\n",
    "\n",
    "This is the code for the preveous example:\n",
    "\n",
    "- For **Bold**  \n",
    "This is the code:\n",
    "```\n",
    "**Bold**\n",
    "```\n",
    "- For *Italic*  \n",
    "This is the code:\n",
    "```\n",
    "*Italic font*\n",
    "```\n",
    "- For ~~Scratched text~~  \n",
    "This is the code:\n",
    "```\n",
    "~~Text~~\n",
    "```\n",
    "\n",
    "###### [Go to Index](#index)  \n",
    "\n",
    "---"
   ]
  },
  {
   "cell_type": "markdown",
   "metadata": {
    "nbpresent": {
     "id": "9b2cd4c6-7a95-4dd0-9010-ddc4b917b334"
    }
   },
   "source": [
    "<a id='listLink'></a>\n",
    "## Lists\n",
    "\n",
    "You can also create list or nested lists like the in the following example:\n",
    "\n",
    "Without order (Bullets):\n",
    "* Item1\n",
    "    * Nested Item2\n",
    "* Item3\n",
    "\n",
    "Code of an **<u>unordered</u>** list:  \n",
    "```\n",
    "* Item1\n",
    "(space or tab)* Nested Item2\n",
    "* Item3\n",
    "```\n",
    "\n",
    "**OR**\n",
    "\n",
    "An ordered list:\n",
    "\n",
    "1. Ordered\n",
    "    2. Nested Ordered2\n",
    "3. Ordered3\n",
    "\n",
    "Code for the preveous example:\n",
    "\n",
    "Without order (Bullets):\n",
    "\n",
    "Code of an **<u>ordered</u>** list:\n",
    "\n",
    "```\n",
    "1. Ordered\n",
    "(space or tab)2. Nested Ordered2\n",
    "3. Ordered3\n",
    "```\n",
    "###### [Go to Index](#index)  \n",
    "---"
   ]
  },
  {
   "cell_type": "markdown",
   "metadata": {
    "nbpresent": {
     "id": "6e022957-9fe8-49d4-a8db-e31a53fc3198"
    }
   },
   "source": [
    "<a id='linkLink'></a>\n",
    "## Links\n",
    "\n",
    "This is useful for many situations i.e. citation\n",
    "\n",
    "1. http://www.google.com\n",
    "\n",
    "2. [Google short name](http://www.google.com/)\n",
    "\n",
    "And the code for the preveous example:\n",
    "\n",
    "1. http://www.google.com\n",
    ">Just by putting the complete link starting with an Internet protocol like HTTP will be enough\n",
    "\n",
    "2. ```[Google short name](http://www.google.com/)```\n",
    "\n",
    "###### [Go to Index](#index)  \n",
    "---"
   ]
  },
  {
   "cell_type": "markdown",
   "metadata": {
    "nbpresent": {
     "id": "3767cb8d-5e08-4176-bd6f-f1101c2e3641"
    }
   },
   "source": [
    "<a id='imagesLink'></a>\n",
    "## Images\n",
    "\n",
    "This is most likely the same as the links but you just need to add an exclamation mark at the beginning.  \n",
    "\n",
    "![nanoLogo](https://nanohub.org/app/site/media/branding/nanoHUB_logo_color.png)\n",
    "\n",
    "```\n",
    "![nanoLogo](https://nanohub.org/app/site/media/branding/nanoHUB_logo_color.png)\n",
    "```  \n",
    "\n",
    "Note: If you like to have a comment above the image you can put it after the link of the image with a space and between quotes like in the following example.\n",
    "\n",
    "![nanoLogo](https://nanohub.org/app/site/media/branding/nanoHUB_logo_color.png \"Comment for nanoHUB Logo\")\n",
    "\n",
    "```\n",
    "![nanoLogo](https://nanohub.org/app/site/media/branding/nanoHUB_logo_color.png \"Comment for nanoHUB Logo\")\n",
    "```\n",
    "\n",
    "###### [Go to Index](#index)  \n",
    "---"
   ]
  },
  {
   "cell_type": "markdown",
   "metadata": {
    "nbpresent": {
     "id": "0236a150-5d54-4c7b-a582-8f29bcd41e85"
    }
   },
   "source": [
    "<a id='videosLink'></a>\n",
    "## Video Link\n",
    "\n",
    "**Markdown form**\n",
    "\n",
    "In the same way of an **<u>image</u>** you can create a link to a video. In this example is linked to a youtube course video of nanoHUB.\n",
    "\n",
    "[![Image](https://i.ytimg.com/vi/aQaRXdabug0/hqdefault.jpg?custom=true&w=196&h=110&stc=true&jpg444=true&jpgq=90&sp=68&sigh=tZcrGm6OdaCxO6_3-31E4kafygM)](https://www.youtube.com/watch?v=aQaRXdabug0 \"NanoHUB Is AWESOME\")\n",
    "\n",
    "The code for this example is:\n",
    "\n",
    "```\n",
    "\n",
    "[![Image](https://i.ytimg.com/vi/aQaRXdabug0/hqdefault.jpg?custom=true&w=196&h=110&stc=true&jpg444=true&jpgq=90&sp=68&sigh=tZcrGm6OdaCxO6_3-31E4kafygM)](https://www.youtube.com/watch?v=aQaRXdabug0 \"NanoHUB Is AWESOME\")\n",
    "\n",
    "```\n",
    "**HTML form**  \n",
    "\n",
    "In this form, the video is embeded in the document. Note: It may occur that in the Jupyter editor mode the video appears like in white but it's there. One way to verify that it is there is when you download your file in a html document. I should appear and the link should work properly. \n",
    "\n",
    "<iframe width=\"640\" height=\"360\" src=\"https://www.youtube.com/embed/KWa7_YwQImc?list=PLtkeUZItwHK5wJleEvJ9aqAtLtSPQAOPK\" frameborder=\"0\" allowfullscreen></iframe>\n",
    "\n",
    "The code for this example is:  \n",
    "```html   \n",
    "<iframe width=\"640\" height=\"360\" src=\"https://www.youtube.com/embed/KWa7_YwQImc?list=PLtkeUZItwHK5wJleEvJ9aqAtLtSPQAOPK\" frameborder=\"0\" allowfullscreen></iframe>\n",
    "```\n",
    "###### [Go to Index](#index)  "
   ]
  },
  {
   "cell_type": "markdown",
   "metadata": {
    "nbpresent": {
     "id": "bdd90367-2feb-4616-908a-6324edc76091"
    }
   },
   "source": [
    "<a id='quotesLink'></a>  \n",
    "## Quotes\n",
    "\n",
    "To create the effect of quoting you will put the greater than symbol before the lines like in the following example.\n",
    "\n",
    "> \"In very truth he was, the noblest work of God\" -- an honest man.\n",
    "\n",
    ">--February 8, 1842 Eulogy of Benjamin Ferguson *separate paragraph*\n",
    "\n",
    "> Abraham Lincoln\n",
    "\n",
    "> [Quote reference](http://www.abrahamlincolnonline.org/lincoln/speeches/quotes.htm)\n",
    "\n",
    "This is the code of the preveous example:\n",
    "\n",
    "``` \n",
    "> \"In very truth he was, the noblest work of God\" -- an honest man.\n",
    ">--February 8, 1842 Eulogy of Benjamin Ferguson\n",
    "\n",
    "> Abraham Lincoln\n",
    "\n",
    "> [Quote reference](http://www.abrahamlincolnonline.org/lincoln/speeches/quotes.htm)\n",
    "```\n",
    "\n",
    "###### [Go to Index](#index)  \n",
    "---\n"
   ]
  },
  {
   "cell_type": "markdown",
   "metadata": {
    "nbpresent": {
     "id": "dc7dac08-7a05-4b28-9f57-9b15d0ef4645"
    }
   },
   "source": [
    "<a id='codeLink'></a>  \n",
    "## Embedded Code\n",
    "\n",
    "You can use just use python code or you can also use code block like the following:"
   ]
  },
  {
   "cell_type": "code",
   "execution_count": 15,
   "metadata": {
    "collapsed": false,
    "nbpresent": {
     "id": "d3288d7c-ce82-44de-9941-95f6a19f101d"
    }
   },
   "outputs": [
    {
     "data": {
      "text/html": [
       "<div>\n",
       "<table border=\"1\" class=\"dataframe\">\n",
       "  <thead>\n",
       "    <tr style=\"text-align: right;\">\n",
       "      <th></th>\n",
       "      <th>0</th>\n",
       "      <th>1</th>\n",
       "      <th>2</th>\n",
       "    </tr>\n",
       "  </thead>\n",
       "  <tbody>\n",
       "    <tr>\n",
       "      <th>0</th>\n",
       "      <td>0.014569</td>\n",
       "      <td>0.215210</td>\n",
       "      <td>0.117377</td>\n",
       "    </tr>\n",
       "    <tr>\n",
       "      <th>1</th>\n",
       "      <td>0.767424</td>\n",
       "      <td>0.081217</td>\n",
       "      <td>0.998414</td>\n",
       "    </tr>\n",
       "    <tr>\n",
       "      <th>2</th>\n",
       "      <td>0.389612</td>\n",
       "      <td>0.905203</td>\n",
       "      <td>0.188578</td>\n",
       "    </tr>\n",
       "  </tbody>\n",
       "</table>\n",
       "</div>"
      ],
      "text/plain": [
       "          0         1         2\n",
       "0  0.014569  0.215210  0.117377\n",
       "1  0.767424  0.081217  0.998414\n",
       "2  0.389612  0.905203  0.188578"
      ]
     },
     "execution_count": 15,
     "metadata": {},
     "output_type": "execute_result"
    }
   ],
   "source": [
    "import pandas as pd\n",
    "import numpy as np\n",
    "x = pd.DataFrame(np.random.random((3, 3)))\n",
    "x"
   ]
  },
  {
   "cell_type": "markdown",
   "metadata": {
    "nbpresent": {
     "id": "d90f04cc-f1b8-449d-a642-b22ed8bce8aa"
    }
   },
   "source": [
    "###### [Go to Index](#index)  \n",
    "\n",
    "---"
   ]
  },
  {
   "cell_type": "markdown",
   "metadata": {
    "nbpresent": {
     "id": "472cf44e-986a-4bb9-8f46-1e79ea3234db"
    }
   },
   "source": [
    "<a id='LatexLink'></a>  \n",
    "## LaTeX\n",
    "\n",
    ">LaTeX is a high-quality typesetting system; it includes features designed for the production of technical and scientific documentation. LaTeX is the de facto standard for the communication and publication of scientific documents.\n",
    ">[Latex website link](https://www.latex-project.org/)\n",
    "\n",
    "So you can create formulas like \n",
    "1. $$y \\approx x^2 - z*t + u\\times  w . a + \\frac {m} {n-1}$$ \n",
    "2. $$0 \\leq x \\geq 1 $$\n",
    "\n",
    "This is the code for the preveous example: \n",
    "\n",
    "1. ``` $$y \\approx x^2 - z*t + u\\times  w . a + \\frac {m} {n-1}$$ ```\n",
    "\n",
    "2. ``` $$0 \\leq x \\geq 1 $$```"
   ]
  },
  {
   "cell_type": "markdown",
   "metadata": {
    "nbpresent": {
     "id": "cb60dd65-1149-46c6-85c7-414095059194"
    }
   },
   "source": [
    "There is more detail about the math-mode syntaxis.\n",
    "\n",
    "![Math symbols](https://wch.github.io/latexsheet/latexsheet-1.png)\n",
    "Source: [Latex](https://wch.github.io/latexsheet/)\n",
    "\n",
    "###### [Go to Index](#index)  \n",
    "\n",
    "---"
   ]
  },
  {
   "cell_type": "markdown",
   "metadata": {
    "nbpresent": {
     "id": "b4521c78-81e1-4674-b2f8-d10429de71a1"
    }
   },
   "source": [
    "<a id='GLLink'></a>  \n",
    "### Greek letters in Jupyter\n",
    "\n",
    "Here it is the sheet of the codes for each greek letter that you may use.\n",
    "\n",
    "![Greek letters](http://web.ift.uib.no/Teori/KURS/WRK/TeX/t1.gif)\n",
    "\n",
    "[Source link](http://web.ift.uib.no/Teori/KURS/WRK/TeX/sym1.html)\n",
    "\n",
    "###### [Go to Index](#index)  "
   ]
  },
  {
   "cell_type": "markdown",
   "metadata": {
    "nbpresent": {
     "id": "fbecbb43-7ccd-49dc-a238-ea4805c0de99"
    }
   },
   "source": [
    "<a id='tables'></a>\n",
    "## Tables\n",
    "In this way you can merge columns.\n",
    "```\n",
    "| Jupyter![Title 1][image]  | Community![Title 2][image2]                   |![T3][image3]   |\n",
    "| ------------------------- |:---------------------------------------------:| --------------:|\n",
    "| xxx                       | <ol><li>ordered element</li><li>Milk</li></ol>|    element3    |\n",
    "| xxx                       | row 2                                         |     </br>      |\n",
    " \n",
    "[image]: <http://jupyter.org/assets/nav_logo.svg>\n",
    "[image2]: <http://jupyter.org/assets/community.svg>\n",
    "[image3]: <https://nbviewer.jupyter.org/static/img/example-nb/ipython-thumb.png>\n",
    "```  \n",
    "\n",
    "This will be the output:\n",
    "\n",
    "| Jupyter![Title 1][image]  | Community![Title 2][image2]                   |![T3][image3]   |\n",
    "| ------------------------- |:---------------------------------------------:| --------------:|\n",
    "| xxx                       | <ol><li>ordered element</li><li>Milk</li></ol>|    element3    |\n",
    "| xxx                       | row 2                                         |     </br>      |\n",
    " \n",
    "[image]: <http://jupyter.org/assets/nav_logo.svg>\n",
    "[image2]: <http://jupyter.org/assets/community.svg>\n",
    "[image3]: <https://nbviewer.jupyter.org/static/img/example-nb/ipython-thumb.png>\n",
    "\n",
    "###### [Go to Index](#index)  \n",
    "---"
   ]
  },
  {
   "cell_type": "markdown",
   "metadata": {
    "nbpresent": {
     "id": "b5011806-f211-4128-b87f-14ff0e1f2805"
    }
   },
   "source": [
    "<a id='htmlCode'></a>  \n",
    "## HTML code\n",
    "\n",
    "In this section I grouped all the HTML sintax used in this tutorial so you don't need to go from one section to another to look HTML piece codes.\n",
    "\n",
    "0. Indexing\n",
    "1. Font styles\n",
    "2. Youtube videos  \n",
    "\n",
    "---\n",
    "#### **Indexing**\n",
    "\n",
    "This process is divided in two parts:\n",
    "\n",
    "1. Point the reference\n",
    "2. State the reference\n",
    "\n",
    "1.The next code is to refer to a specific part of the page.\n",
    "```\n",
    "[Text that will point the link](#referenceID)\n",
    "```\n",
    "i.e. [link](#referenceID)  \n",
    "\n",
    "2.The webpage will jump to this id position.\n",
    "```\n",
    "<a id='referenceID'></a> REMEMBER TO CLOSE THE COMMAND!\n",
    "\n",
    "Note that the refered code will not appear for the user\n",
    "```\n",
    "<a id='referenceID'></a>\n",
    "#### **Font styles**  \n",
    "\n",
    "* <u>Underline </u>\n",
    "```\n",
    "<u> Text </u>\n",
    "```\n",
    "\n",
    "* <p style=\"color:green;\">Change the color of the font</p>  \n",
    "```\n",
    "<p style=\"color:green;\">This is a paragraph.</p>\n",
    "```\n",
    "[More examples](http://www.w3schools.com/html/html_styles.asp)\n",
    "\n",
    "#### **Youtube videos**  \n",
    "This is the html code:  \n",
    "```\n",
    "<iframe width=\"640\" height=\"360\" src=\"https://www.youtube.com/embed/KWa7_YwQImc?list=PLtkeUZItwHK5wJleEvJ9aqAtLtSPQAOPK\" frameborder=\"0\" allowfullscreen></iframe>\n",
    "```\n",
    "\n",
    "###### [Go to Index](#index)  \n",
    "---"
   ]
  },
  {
   "cell_type": "markdown",
   "metadata": {
    "nbpresent": {
     "id": "6b91a964-ea47-4972-9ecc-319288760a0c"
    }
   },
   "source": [
    "<a id='presentationLink'></a>\n",
    "## Presentation Mode\n",
    "\n",
    "In this section I'll leave the link to a tutorial of how to transform your Jupyter notebook to a presentation form.\n",
    "\n",
    "Press the image or this [link][tutLink] to see the tutorial  \n",
    "\n",
    "[![tutorial Image][tutImage]][tutLink]\n",
    "\n",
    "[tutImage]: <https://docs.continuum.io/_images/nb-ext-slides2.png>\n",
    "[tutLink]: <https://docs.continuum.io/anaconda/jupyter-notebook-extensions#notebook-present>\n",
    "###### [Go to Index](#index) "
   ]
  },
  {
   "cell_type": "markdown",
   "metadata": {},
   "source": [
    "<a id=\"interactive\"></a>\n",
    "## Interactive Notebook\n",
    "\n",
    "In this section we will introduce the package [ipywidgets][1] for Python which makes your notebooks interactive. The structure of this section will be the following:\n",
    "\n",
    "1. Community support and promotion of interactive notebooks\n",
    "    1. How is using it? And Is it worth it to explore it?    \n",
    "1. Examples\n",
    "\n",
    "\n",
    "\n",
    "[1]: <https://github.com/ipython/ipywidgets/tree/29d9dc59a46b37e398c507e4b4ca108a80d47c2c>\n"
   ]
  },
  {
   "cell_type": "markdown",
   "metadata": {},
   "source": [
    "\n",
    "### Community support and promotion of interactive notebooks\n",
    "\n",
    "Here I left with one of last videos of [Pycon][1] ( a national conference for the Python Programming Community) that took place in Australia and ***expose the importance to create interactive notebooks***.\n",
    "\n",
    "[1]: <https://2016.pycon-au.org/about/pycon_australia>"
   ]
  },
  {
   "cell_type": "code",
   "execution_count": 21,
   "metadata": {
    "collapsed": false
   },
   "outputs": [
    {
     "data": {
      "text/html": [
       "<iframe width=\"560\" height=\"315\" src=\"https://www.youtube.com/embed/aXR2d9k9-h4\" frameborder=\"0\" allowfullscreen></iframe>"
      ],
      "text/plain": [
       "<IPython.core.display.HTML object>"
      ]
     },
     "execution_count": 21,
     "metadata": {},
     "output_type": "execute_result"
    }
   ],
   "source": [
    "from IPython.display import HTML\n",
    "HTML('<iframe width=\"560\" height=\"315\" src=\"https://www.youtube.com/embed/aXR2d9k9-h4\" frameborder=\"0\" allowfullscreen></iframe>')"
   ]
  },
  {
   "cell_type": "markdown",
   "metadata": {},
   "source": [
    "### Examples\n",
    "\n",
    "Here is an example from [Jonathan Frederic][1] on how to create a features as a component for future dashboard where you can share with your colleagues as explained in the PyCon video. \n",
    "\n",
    "There are the examples:\n",
    "\n",
    "1. Lorenz system of differential equation \n",
    "2. Networks generation based on selected types of \n",
    "\n",
    "[1]: <https://github.com/ipython/ipywidgets/blob/29d9dc59a46b37e398c507e4b4ca108a80d47c2c/docs/source/examples/Exploring%20Graphs.ipynb>\n",
    "\n",
    "###### [Go to Index](#index) \n"
   ]
  },
  {
   "cell_type": "code",
   "execution_count": 32,
   "metadata": {
    "collapsed": false
   },
   "outputs": [
    {
     "data": {
      "image/png": "[encoded data removed]",
      "text/plain": [
       "<matplotlib.figure.Figure at 0x11251cc10>"
      ]
     },
     "metadata": {},
     "output_type": "display_data"
    },
    {
     "data": {
      "text/plain": [
       "(array([  0.00000000e+00,   4.00291121e-03,   8.00582242e-03, ...,\n",
       "          5.49199418e+00,   5.49599709e+00,   5.50000000e+00]),\n",
       " array([[[ -2.48933986,   6.6097348 , -14.99656876],\n",
       "         [ -1.84832733,   6.29793252, -14.85922314],\n",
       "         [ -1.27263316,   6.06842734, -14.70638169],\n",
       "         ..., \n",
       "         [ -7.64436272,  -7.76893425,  16.9361456 ],\n",
       "         [ -7.65345809,  -7.77317753,  16.95476113],\n",
       "         [ -7.66218545,  -7.77687299,  16.9735336 ]],\n",
       " \n",
       "        [[ -5.93002282, -10.59732328, -12.22984216],\n",
       "         [ -6.28987507, -11.28990261, -11.80667833],\n",
       "         [ -6.67471063, -12.01318526, -11.35449818],\n",
       "         ..., \n",
       "         [  7.75416686,   7.8124354 ,  17.17805941],\n",
       "         [  7.75824387,   7.80948076,  17.19811122],\n",
       "         [  7.7617948 ,   7.80593384,  17.21792328]],\n",
       " \n",
       "        [[ -9.41219366,  -4.63317819,  -3.09697577],\n",
       "         [ -9.09714909,  -5.3937169 ,  -2.87269388],\n",
       "         [ -8.8579794 ,  -6.11956232,  -2.63029178],\n",
       "         ..., \n",
       "         [  7.7825639 ,   7.90480879,  17.04144377],\n",
       "         [  7.79137409,   7.90575989,  17.06713023],\n",
       "         [  7.79959251,   7.90594339,  17.09277166]],\n",
       " \n",
       "        ..., \n",
       "        [[ 14.04784727,  -5.59727466,   5.76967847],\n",
       "         [ 12.66365877,  -4.90812259,   5.41673309],\n",
       "         [ 11.42630879,  -4.27175539,   5.12741599],\n",
       "         ..., \n",
       "         [  7.03524618,   6.77172529,  17.49258534],\n",
       "         [  7.01598748,   6.7622235 ,  17.45671841],\n",
       "         [  6.99746513,   6.75372072,  17.42055343]],\n",
       " \n",
       "        [[ 11.29167457,  11.83819991, -12.44867366],\n",
       "         [ 11.37895635,  13.15713959, -11.72534284],\n",
       "         [ 11.55370209,  14.45227509, -10.94518257],\n",
       "         ..., \n",
       "         [ -7.76408445,  -7.85114217,  17.11463757],\n",
       "         [ -7.77029349,  -7.85000412,  17.13707028],\n",
       "         [ -7.77595115,  -7.84819933,  17.15935427]],\n",
       " \n",
       "        [[-13.8283565 ,  -9.90508741,  11.3442751 ],\n",
       "         [-13.55862768, -10.22402022,  11.74648764],\n",
       "         [-13.33005503, -10.51353157,  12.14983027],\n",
       "         ..., \n",
       "         [ -7.44214699,  -7.31988097,  17.40533409],\n",
       "         [ -7.43306458,  -7.31138829,  17.39791006],\n",
       "         [ -7.42403296,  -7.30313079,  17.39007051]]]))"
      ]
     },
     "metadata": {},
     "output_type": "display_data"
    }
   ],
   "source": [
    "%matplotlib inline\n",
    "from ipywidgets import interact, interactive\n",
    "from IPython.display import clear_output, display, HTML\n",
    "\n",
    "import numpy as np\n",
    "from scipy import integrate\n",
    "\n",
    "from matplotlib import pyplot as plt\n",
    "from mpl_toolkits.mplot3d import Axes3D\n",
    "from matplotlib.colors import cnames\n",
    "from matplotlib import animation\n",
    "\n",
    "def solve_lorenz(N=10, angle=0.0, max_time=4.0, sigma=10.0, beta=8./3, rho=28.0):\n",
    "\n",
    "    fig = plt.figure()\n",
    "    ax = fig.add_axes([0, 0, 1, 1], projection='3d')\n",
    "    ax.axis('off')\n",
    "\n",
    "    # prepare the axes limits\n",
    "    ax.set_xlim((-25, 25))\n",
    "    ax.set_ylim((-35, 35))\n",
    "    ax.set_zlim((5, 55))\n",
    "    \n",
    "    def lorenz_deriv(x_y_z, t0, sigma=sigma, beta=beta, rho=rho):\n",
    "        \"\"\"Compute the time-derivative of a Lorenz system.\"\"\"\n",
    "        x, y, z = x_y_z\n",
    "        return [sigma * (y - x), x * (rho - z) - y, x * y - beta * z]\n",
    "\n",
    "    # Choose random starting points, uniformly distributed from -15 to 15\n",
    "    np.random.seed(1)\n",
    "    x0 = -15 + 30 * np.random.random((N, 3))\n",
    "\n",
    "    # Solve for the trajectories\n",
    "    t = np.linspace(0, max_time, int(250*max_time))\n",
    "    x_t = np.asarray([integrate.odeint(lorenz_deriv, x0i, t)\n",
    "                      for x0i in x0])\n",
    "    \n",
    "    # choose a different color for each trajectory\n",
    "    colors = plt.cm.jet(np.linspace(0, 1, N))\n",
    "\n",
    "    for i in range(N):\n",
    "        x, y, z = x_t[i,:,:].T\n",
    "        lines = ax.plot(x, y, z, '-', c=colors[i])\n",
    "        plt.setp(lines, linewidth=2)\n",
    "\n",
    "    ax.view_init(30, angle)\n",
    "    plt.show()\n",
    "\n",
    "    return t, x_t\n",
    "\n",
    "w = interactive(solve_lorenz, angle=(0.,360.), N=(0,50), sigma=(0.0,50.0), rho=(0.0,50.0))\n",
    "display(w)"
   ]
  },
  {
   "cell_type": "markdown",
   "metadata": {},
   "source": [
    "Another example related with graphs generation"
   ]
  },
  {
   "cell_type": "code",
   "execution_count": 31,
   "metadata": {
    "collapsed": false
   },
   "outputs": [
    {
     "data": {
      "image/png": "[encoded data removed]",
      "text/plain": [
       "<matplotlib.figure.Figure at 0x1104d8b50>"
      ]
     },
     "metadata": {},
     "output_type": "display_data"
    }
   ],
   "source": [
    "from ipywidgets import interact\n",
    "%matplotlib inline\n",
    "import matplotlib.pyplot as plt\n",
    "import networkx as nx\n",
    "\n",
    "#===========================\n",
    "# wrap a few graph generation functions so they have the same signature\n",
    "\n",
    "def random_lobster(n, m, k, p):\n",
    "    return nx.random_lobster(n, p, p / m)\n",
    "\n",
    "def powerlaw_cluster(n, m, k, p):\n",
    "    return nx.powerlaw_cluster_graph(n, m, p)\n",
    "\n",
    "def erdos_renyi(n, m, k, p):\n",
    "    return nx.erdos_renyi_graph(n, p)\n",
    "\n",
    "def newman_watts_strogatz(n, m, k, p):\n",
    "    return nx.newman_watts_strogatz_graph(n, k, p)\n",
    "\n",
    "def plot_random_graph(n, m, k, p, visualization_method):\n",
    "    g = visualization_method(n, m, k, p)\n",
    "    nx.draw(g)\n",
    "    plt.show()\n",
    "    \n",
    "#===========================\n",
    "interact(plot_random_graph, n=(2,30), m=(1,10), k=(1,10), p=(0.0, 1.0, 0.001),\n",
    "        visualization_method={\n",
    "                    '3 Newman-Watts-Strogatz': newman_watts_strogatz,\n",
    "                    u'4 Erdős-Rényi': erdos_renyi,\n",
    "                    '2 power law': powerlaw_cluster,        \n",
    "                    '1 lobster': random_lobster,\n",
    "                    '0 Select an option':newman_watts_strogatz\n",
    "                   });"
   ]
  },
  {
   "cell_type": "markdown",
   "metadata": {},
   "source": [
    "###### [Go to Index](#index) "
   ]
  },
  {
   "cell_type": "markdown",
   "metadata": {
    "nbpresent": {
     "id": "24614a6d-969b-4e00-99f4-8917e40a18d9"
    }
   },
   "source": [
    "<a id='FRLink'></a>\n",
    "## Further reading:\n",
    "[Markdown tutorial](https://github.com/adam-p/markdown-here/wiki/Markdown-Cheatsheet)  \n",
    "[Advance tricks](https://blog.dominodatalab.com/lesser-known-ways-of-using-notebooks/)  \n",
    "[Even more detail](http://stackoverflow.com/editing-help)\n",
    "\n",
    "###### [Go to Index](#index)  "
   ]
  },
  {
   "cell_type": "markdown",
   "metadata": {
    "nbpresent": {
     "id": "ea633e52-e88f-46f8-869c-d0efed3e182c"
    }
   },
   "source": [
    "## References\n",
    "\n",
    "* Index creation code\n",
    "    [Sebastian Raschka]\n",
    "* Content in general \n",
    "    * [Roshan]\n",
    "    * [Adam Pritchard]\n",
    "\n",
    "\n",
    "[Sebastian Raschka]: <http://sebastianraschka.com/>\n",
    "[Roshan]:<https://www.youtube.com/user/roshanRush>\n",
    "[Adam Pritchard]: <https://github.com/adam-p>\n",
    "\n",
    "###### [Go to Index](#index)  "
   ]
  }
 ],
 "metadata": {
  "anaconda-cloud": {},
  "kernelspec": {
   "display_name": "Python [conda root]",
   "language": "python",
   "name": "conda-root-py"
  },
  "language_info": {
   "codemirror_mode": {
    "name": "ipython",
    "version": 2
   },
   "file_extension": ".py",
   "mimetype": "text/x-python",
   "name": "python",
   "nbconvert_exporter": "python",
   "pygments_lexer": "ipython2",
   "version": "2.7.12"
  },
  "nbpresent": {
   "slides": {
    "0eaf95b9-0d6a-4916-a0f9-4017737b4e89": {
     "id": "0eaf95b9-0d6a-4916-a0f9-4017737b4e89",
     "prev": "9f413dc4-a7c2-4b21-af96-bb9b996cd554",
     "regions": {
      "75cf0f24-c2de-4eb4-9826-6e1407321c9d": {
       "attrs": {
        "height": 0.8,
        "width": 0.8,
        "x": 0.1,
        "y": 0.1
       },
       "content": {
        "cell": "24614a6d-969b-4e00-99f4-8917e40a18d9",
        "part": "whole"
       },
       "id": "75cf0f24-c2de-4eb4-9826-6e1407321c9d"
      }
     }
    },
    "0f8950d4-611a-44d6-9290-f9e81089ca37": {
     "id": "0f8950d4-611a-44d6-9290-f9e81089ca37",
     "prev": "53598bad-f9cf-4e8d-95c1-e39eb7207be6",
     "regions": {
      "c3a9e6ca-4569-4446-ad84-8c7cd44afd7e": {
       "attrs": {
        "height": 0.8,
        "width": 0.8,
        "x": 0.1,
        "y": 0.1
       },
       "content": {
        "cell": "2dc7d44f-3f33-43a8-ac96-36a8d4255996",
        "part": "whole"
       },
       "id": "c3a9e6ca-4569-4446-ad84-8c7cd44afd7e"
      }
     }
    },
    "124f76fe-54ee-455b-800d-a93350257a08": {
     "id": "124f76fe-54ee-455b-800d-a93350257a08",
     "prev": "c45d09e1-0ec0-45b1-8c3e-c547d8f310a2",
     "regions": {
      "02b621f9-dee9-451f-82bf-374876986c0b": {
       "attrs": {
        "height": 0.8,
        "width": 0.8,
        "x": 0.1,
        "y": 0.1
       },
       "content": {
        "cell": "b5011806-f211-4128-b87f-14ff0e1f2805",
        "part": "whole"
       },
       "id": "02b621f9-dee9-451f-82bf-374876986c0b"
      }
     }
    },
    "138ba586-caf4-4440-a31e-a380e4135df6": {
     "id": "138ba586-caf4-4440-a31e-a380e4135df6",
     "prev": "d41a21a7-d285-4e52-bd8d-337d08a4d5ac",
     "regions": {
      "f447c81a-3f58-4697-895c-93f7bd625393": {
       "attrs": {
        "height": 0.8,
        "width": 0.8,
        "x": 0.1,
        "y": 0.1
       },
       "content": {
        "cell": "d6706444-621d-4125-afcf-fd7d5fdad682",
        "part": "whole"
       },
       "id": "f447c81a-3f58-4697-895c-93f7bd625393"
      }
     }
    },
    "266e234d-721d-46a3-aa84-89bfd19c7e0d": {
     "id": "266e234d-721d-46a3-aa84-89bfd19c7e0d",
     "prev": "35c1e9cb-4c82-4d91-9de6-d66ddc5be8cc",
     "regions": {
      "45265ffb-17bf-473f-9b1e-0dcb608b2f92": {
       "attrs": {
        "height": 0.8,
        "width": 0.8,
        "x": 0.1,
        "y": 0.1
       },
       "content": {
        "cell": "9b2cd4c6-7a95-4dd0-9010-ddc4b917b334",
        "part": "whole"
       },
       "id": "45265ffb-17bf-473f-9b1e-0dcb608b2f92"
      }
     }
    },
    "35c1e9cb-4c82-4d91-9de6-d66ddc5be8cc": {
     "id": "35c1e9cb-4c82-4d91-9de6-d66ddc5be8cc",
     "prev": "7ba1b86b-9862-43bc-8e7b-66716ca2b01a",
     "regions": {
      "73bde322-5654-4c32-ae01-0e832c7c48f6": {
       "attrs": {
        "height": 0.8,
        "width": 0.8,
        "x": 0.1,
        "y": 0.1
       },
       "content": {
        "cell": "cb65828d-984c-4a2d-99d2-959278ab24e9",
        "part": "whole"
       },
       "id": "73bde322-5654-4c32-ae01-0e832c7c48f6"
      }
     }
    },
    "44ee61c3-951b-4981-b1f1-9f20322174b8": {
     "id": "44ee61c3-951b-4981-b1f1-9f20322174b8",
     "prev": "afe92ef2-530c-4d05-835d-4b71a3a47591",
     "regions": {
      "1ce3acaa-b1d3-4862-bb6c-6bee0d61ea0e": {
       "attrs": {
        "height": 0.8,
        "width": 0.8,
        "x": 0.1,
        "y": 0.1
       },
       "content": {
        "cell": "472cf44e-986a-4bb9-8f46-1e79ea3234db",
        "part": "whole"
       },
       "id": "1ce3acaa-b1d3-4862-bb6c-6bee0d61ea0e"
      }
     }
    },
    "53598bad-f9cf-4e8d-95c1-e39eb7207be6": {
     "id": "53598bad-f9cf-4e8d-95c1-e39eb7207be6",
     "prev": "138ba586-caf4-4440-a31e-a380e4135df6",
     "regions": {
      "86121f47-ad38-409e-8233-21ee0ef6d5c6": {
       "attrs": {
        "height": 0.8,
        "width": 0.8,
        "x": 0.1,
        "y": 0.1
       },
       "content": {
        "cell": "c97b6acf-0a7f-437c-8da5-f287f6207ba7",
        "part": "whole"
       },
       "id": "86121f47-ad38-409e-8233-21ee0ef6d5c6"
      }
     }
    },
    "6a40272f-b782-46ca-ac9a-96e9f02d757f": {
     "id": "6a40272f-b782-46ca-ac9a-96e9f02d757f",
     "prev": "44ee61c3-951b-4981-b1f1-9f20322174b8",
     "regions": {
      "49cbf8d7-ecc0-4f61-8734-ec3e70ad389c": {
       "attrs": {
        "height": 0.8,
        "width": 0.8,
        "x": 0.1,
        "y": 0.1
       },
       "content": {
        "cell": "cb60dd65-1149-46c6-85c7-414095059194",
        "part": "whole"
       },
       "id": "49cbf8d7-ecc0-4f61-8734-ec3e70ad389c"
      }
     }
    },
    "7ba1b86b-9862-43bc-8e7b-66716ca2b01a": {
     "id": "7ba1b86b-9862-43bc-8e7b-66716ca2b01a",
     "prev": "0f8950d4-611a-44d6-9290-f9e81089ca37",
     "regions": {
      "698c78f7-a2ae-47c3-bbd4-b13dc3b7c180": {
       "attrs": {
        "height": 0.8,
        "width": 0.8,
        "x": 0.1,
        "y": 0.1
       },
       "content": {
        "cell": "4eb63123-ae03-49f7-be92-ea0afb706866",
        "part": "whole"
       },
       "id": "698c78f7-a2ae-47c3-bbd4-b13dc3b7c180"
      }
     }
    },
    "85787d9d-a638-4749-ab85-d868039435f1": {
     "id": "85787d9d-a638-4749-ab85-d868039435f1",
     "prev": "266e234d-721d-46a3-aa84-89bfd19c7e0d",
     "regions": {
      "2dcb9575-8bf0-47d4-aa34-6027b8fcae43": {
       "attrs": {
        "height": 0.8,
        "width": 0.8,
        "x": 0.1,
        "y": 0.1
       },
       "content": {
        "cell": "6e022957-9fe8-49d4-a8db-e31a53fc3198",
        "part": "whole"
       },
       "id": "2dcb9575-8bf0-47d4-aa34-6027b8fcae43"
      }
     }
    },
    "9d301f4e-cee9-4aa5-b550-92ff6575afb0": {
     "id": "9d301f4e-cee9-4aa5-b550-92ff6575afb0",
     "prev": "0eaf95b9-0d6a-4916-a0f9-4017737b4e89",
     "regions": {
      "80417f63-8297-4854-94d5-2b10427f7cdf": {
       "attrs": {
        "height": 0.8,
        "width": 0.8,
        "x": 0.1,
        "y": 0.1
       },
       "content": {
        "cell": "ea633e52-e88f-46f8-869c-d0efed3e182c",
        "part": "whole"
       },
       "id": "80417f63-8297-4854-94d5-2b10427f7cdf"
      }
     }
    },
    "9f413dc4-a7c2-4b21-af96-bb9b996cd554": {
     "id": "9f413dc4-a7c2-4b21-af96-bb9b996cd554",
     "prev": "124f76fe-54ee-455b-800d-a93350257a08",
     "regions": {
      "c032d639-2e83-4b37-b212-18c77c2d4daf": {
       "attrs": {
        "height": 0.8,
        "width": 0.8,
        "x": 0.1,
        "y": 0.1
       },
       "content": {
        "cell": "6b91a964-ea47-4972-9ecc-319288760a0c",
        "part": "whole"
       },
       "id": "c032d639-2e83-4b37-b212-18c77c2d4daf"
      }
     }
    },
    "a149575d-b11e-44f5-a380-7f6b20e9eef4": {
     "id": "a149575d-b11e-44f5-a380-7f6b20e9eef4",
     "prev": "6a40272f-b782-46ca-ac9a-96e9f02d757f",
     "regions": {
      "8c3f1f7e-f1fb-4ceb-9aad-22f0de1b2826": {
       "attrs": {
        "height": 0.8,
        "width": 0.8,
        "x": 0.1,
        "y": 0.1
       },
       "content": {
        "cell": "b4521c78-81e1-4674-b2f8-d10429de71a1",
        "part": "whole"
       },
       "id": "8c3f1f7e-f1fb-4ceb-9aad-22f0de1b2826"
      }
     }
    },
    "a9c5144b-eaa3-4665-91dd-1c1689226bf3": {
     "id": "a9c5144b-eaa3-4665-91dd-1c1689226bf3",
     "prev": "da9516e6-08d8-482d-a117-485cfbe8befb",
     "regions": {
      "493e6803-6e42-4adf-9f51-45e0cadd48ea": {
       "attrs": {
        "height": 0.8,
        "width": 0.8,
        "x": 0.1,
        "y": 0.1
       },
       "content": {
        "cell": "bdd90367-2feb-4616-908a-6324edc76091",
        "part": "whole"
       },
       "id": "493e6803-6e42-4adf-9f51-45e0cadd48ea"
      }
     }
    },
    "afe92ef2-530c-4d05-835d-4b71a3a47591": {
     "id": "afe92ef2-530c-4d05-835d-4b71a3a47591",
     "layout": "grid",
     "prev": "a9c5144b-eaa3-4665-91dd-1c1689226bf3",
     "regions": {
      "bc73f6b1-dd2a-45bb-9e40-00a1c261d19c": {
       "attrs": {
        "height": 0.5833333333333334,
        "pad": 0.01,
        "treemap:weight": 1,
        "width": 0.8333333333333334,
        "x": 0.08333333333333338,
        "y": 0.25
       },
       "content": {
        "cell": "d3288d7c-ce82-44de-9941-95f6a19f101d",
        "part": "whole"
       },
       "id": "bc73f6b1-dd2a-45bb-9e40-00a1c261d19c"
      },
      "f54ce9cf-0cdb-44ed-84e2-7ee459b9de96": {
       "attrs": {
        "height": 0.16666666666666666,
        "pad": 0.01,
        "treemap:weight": 1,
        "width": 0.8333333333333334,
        "x": 0.08333333333333333,
        "y": 0.6666666666666666
       },
       "content": {
        "cell": "d90f04cc-f1b8-449d-a642-b22ed8bce8aa",
        "part": "source"
       },
       "id": "f54ce9cf-0cdb-44ed-84e2-7ee459b9de96"
      },
      "ffae5d8b-c900-48c2-97e2-ee2ec72e9114": {
       "attrs": {
        "height": 0.16666666666666666,
        "pad": 0.01,
        "treemap:weight": 1,
        "width": 0.8333333333333334,
        "x": 0.08333333333333333,
        "y": 0.08333333333333333
       },
       "content": {
        "cell": "dc7dac08-7a05-4b28-9f57-9b15d0ef4645",
        "part": "source"
       },
       "id": "ffae5d8b-c900-48c2-97e2-ee2ec72e9114"
      }
     }
    },
    "c45d09e1-0ec0-45b1-8c3e-c547d8f310a2": {
     "id": "c45d09e1-0ec0-45b1-8c3e-c547d8f310a2",
     "prev": "a149575d-b11e-44f5-a380-7f6b20e9eef4",
     "regions": {
      "c6ede493-f225-444b-a765-1f2e16acc86a": {
       "attrs": {
        "height": 0.8,
        "width": 0.8,
        "x": 0.1,
        "y": 0.1
       },
       "content": {
        "cell": "fbecbb43-7ccd-49dc-a238-ea4805c0de99",
        "part": "whole"
       },
       "id": "c6ede493-f225-444b-a765-1f2e16acc86a"
      }
     }
    },
    "d41a21a7-d285-4e52-bd8d-337d08a4d5ac": {
     "id": "d41a21a7-d285-4e52-bd8d-337d08a4d5ac",
     "prev": null,
     "regions": {
      "17b17038-cb1a-4754-9297-bc8dede87391": {
       "attrs": {
        "height": 0.8,
        "width": 0.8,
        "x": 0.1,
        "y": 0.1
       },
       "content": {
        "cell": "2239047f-63a6-4151-b32b-c483f27312b4",
        "part": "whole"
       },
       "id": "17b17038-cb1a-4754-9297-bc8dede87391"
      }
     },
     "theme": null
    },
    "da9516e6-08d8-482d-a117-485cfbe8befb": {
     "id": "da9516e6-08d8-482d-a117-485cfbe8befb",
     "prev": "f7926dac-c27d-4d99-9e7c-ab826cea32e0",
     "regions": {
      "0c0e4c44-8498-4405-afff-fcbb7664ad82": {
       "attrs": {
        "height": 0.8,
        "width": 0.8,
        "x": 0.1,
        "y": 0.1
       },
       "content": {
        "cell": "0236a150-5d54-4c7b-a582-8f29bcd41e85",
        "part": "whole"
       },
       "id": "0c0e4c44-8498-4405-afff-fcbb7664ad82"
      }
     }
    },
    "f7926dac-c27d-4d99-9e7c-ab826cea32e0": {
     "id": "f7926dac-c27d-4d99-9e7c-ab826cea32e0",
     "prev": "85787d9d-a638-4749-ab85-d868039435f1",
     "regions": {
      "858fcce7-b254-4632-8b98-09a844e2bee0": {
       "attrs": {
        "height": 0.8,
        "width": 0.8,
        "x": 0.1,
        "y": 0.1
       },
       "content": {
        "cell": "3767cb8d-5e08-4176-bd6f-f1101c2e3641",
        "part": "whole"
       },
       "id": "858fcce7-b254-4632-8b98-09a844e2bee0"
      }
     }
    }
   },
   "themes": {}
  },
  "widgets": {
   "state": {
    "f0e930d236004d86a79a5a612190655f": {
     "views": [
      {
       "cell_index": 26
      }
     ]
    }
   },
   "version": "1.2.0"
  }
 },
 "nbformat": 4,
 "nbformat_minor": 0
}
