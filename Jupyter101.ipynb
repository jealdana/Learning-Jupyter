{
 "cells": [
  {
   "cell_type": "markdown",
   "metadata": {},
   "source": [
    "# Jupyter Introduction"
   ]
  },
  {
   "cell_type": "markdown",
   "metadata": {},
   "source": [
    "This notebook has the purpose to introduce concepts of Markdown and LaTex in order to create a Jupyter notebook. \n",
    "<a id='index'></a>\n",
    "## Index\n",
    "1. [Installation Process](#installation)\n",
    "2. [Index creation](#indexCreation)\n",
    "3. [Headings](#headings)\n",
    "4. [Font Styles](#font)\n",
    "5. [list](#listLink)\n",
    "6. [link](#linkLink)\n",
    "7. [images](#imagesLink)\n",
    "8. [videos](#videosLink)\n",
    "9. [Quotes](#quotesLink)\n",
    "10. [Embedded code](#codeLink)\n",
    "11. [LaTex](#LatexLink)\n",
    "    1. [Greek letters](#GLLink)\n",
    "12. [Tables](#tables)\n",
    "12. [Further reading](#FRLink)"
   ]
  },
  {
   "cell_type": "markdown",
   "metadata": {},
   "source": [
    "<a id='installation'></a>  \n",
    "## Installation Process  \n",
    "\n",
    "There are two:\n",
    "\n",
    "1. Download Anaconda.\n",
    " 1. We recommend downloading Anaconda’s latest Python 3 version (currently Python 3.5).\n",
    "2. By using pip you can install also Jupyter.\n",
    "\n",
    "###### [Go to Index](#index)  "
   ]
  },
  {
   "cell_type": "markdown",
   "metadata": {},
   "source": [
    "<a id='indexCreation'></a>\n",
    "## Index creation\n",
    "\n",
    "\n"
   ]
  },
  {
   "cell_type": "markdown",
   "metadata": {},
   "source": [
    "## Headings\n",
    "<a id='headings'></a>  \n",
    "\n",
    "There are 6 diferent size of headers.\n",
    "\n",
    "# H1\n",
    "## H2\n",
    "### H3\n",
    "#### H4\n",
    "##### H5\n",
    "###### H6\n",
    "\n",
    "This is the code for the preveous example (you will need to add a space after the #s):\n",
    "\n",
    "#H1\n",
    "##H2\n",
    "###H3\n",
    "####H4\n",
    "#####H5\n",
    "######H6\n",
    "\n",
    "###### [Go to Index](#index)  \n",
    "---"
   ]
  },
  {
   "cell_type": "markdown",
   "metadata": {},
   "source": [
    "<a id='font'></a>  \n",
    "## Font Styles"
   ]
  },
  {
   "cell_type": "markdown",
   "metadata": {},
   "source": [
    "You can use **Bold font**, *Italic*, or ~~Scratched Text~~"
   ]
  },
  {
   "cell_type": "markdown",
   "metadata": {},
   "source": [
    "This is the code for the preveous example:"
   ]
  },
  {
   "cell_type": "markdown",
   "metadata": {},
   "source": [
    "- ```**Bold**```\n",
    "- ```*Italic font*```\n",
    "- ```~~Text~~```\n",
    "\n",
    "###### [Go to Index](#index)  "
   ]
  },
  {
   "cell_type": "markdown",
   "metadata": {},
   "source": [
    "---"
   ]
  },
  {
   "cell_type": "markdown",
   "metadata": {},
   "source": [
    "<a id='listLink'></a>\n",
    "## Lists"
   ]
  },
  {
   "cell_type": "markdown",
   "metadata": {
    "slideshow": {
     "slide_type": "-"
    }
   },
   "source": [
    "You can also create list or nested lists like the in the following example:\n",
    "\n",
    "Without order (Bullets):\n",
    "* Item1\n",
    "    * Nested Item2\n",
    "* Item3\n",
    "\n",
    "Code of an **<u>unordered</u>** list:  \n",
    "```\n",
    "* Item1\n",
    "(space or tab)* Nested Item2\n",
    "* Item3\n",
    "```\n",
    "\n",
    "**OR**\n",
    "\n",
    "An ordered list:\n",
    "\n",
    "1. Ordered\n",
    "    2. Nested Ordered2\n",
    "3. Ordered3\n",
    "\n",
    "Code for the preveous example:\n",
    "\n",
    "Without order (Bullets):\n",
    "\n",
    "Code of an **<u>ordered</u>** list:\n",
    "\n",
    "```\n",
    "1. Ordered\n",
    "(space or tab)2. Nested Ordered2\n",
    "3. Ordered3\n",
    "```\n",
    "###### [Go to Index](#index)  \n",
    "---"
   ]
  },
  {
   "cell_type": "markdown",
   "metadata": {},
   "source": [
    "<a id='linkLink'></a>\n",
    "## Links"
   ]
  },
  {
   "cell_type": "markdown",
   "metadata": {},
   "source": [
    "This is useful for many situations i.e. citation\n",
    "\n",
    "1. http://www.google.com\n",
    "\n",
    "2. [Google short name](http://www.google.com/)\n",
    "\n",
    "And the code for the preveous example:\n",
    "\n",
    "1. http://www.google.com\n",
    ">Just by putting the complete link starting with an Internet protocol like HTTP will be enough\n",
    "\n",
    "2. ```[Google short name](http://www.google.com/)```\n",
    "\n",
    "###### [Go to Index](#index)  \n",
    "---"
   ]
  },
  {
   "cell_type": "markdown",
   "metadata": {},
   "source": [
    "<a id='imagesLink'></a>\n",
    "## Images"
   ]
  },
  {
   "cell_type": "markdown",
   "metadata": {},
   "source": [
    "This is most likely the same as the links but you just need to add an exclamation mark at the beginning.  \n",
    "\n",
    "![nanoLogo](https://nanohub.org/app/site/media/branding/nanoHUB_logo_color.png)\n",
    "\n",
    "```\n",
    "![nanoLogo](https://nanohub.org/app/site/media/branding/nanoHUB_logo_color.png)\n",
    "```  \n",
    "\n",
    "Note: If you like to have a comment above the image you can put it after the link of the image with a space and between quotes like in the following example.\n",
    "\n",
    "![nanoLogo](https://nanohub.org/app/site/media/branding/nanoHUB_logo_color.png \"Comment for nanoHUB Logo\")\n",
    "\n",
    "```\n",
    "![nanoLogo](https://nanohub.org/app/site/media/branding/nanoHUB_logo_color.png \"Comment for nanoHUB Logo\")\n",
    "```\n",
    "\n",
    "###### [Go to Index](#index)  \n",
    "---"
   ]
  },
  {
   "cell_type": "markdown",
   "metadata": {},
   "source": [
    "<a id='videosLink'></a>\n",
    "## Video Link\n",
    "\n",
    "In the same way of an image you can create a link to a video. In this example is linked to a youtube course video of nanoHUB.\n",
    "\n",
    "[![Image](https://i.ytimg.com/vi/aQaRXdabug0/hqdefault.jpg?custom=true&w=196&h=110&stc=true&jpg444=true&jpgq=90&sp=68&sigh=tZcrGm6OdaCxO6_3-31E4kafygM)](https://www.youtube.com/watch?v=aQaRXdabug0 \"NanoHUB Is AWESOME\")\n",
    "\n",
    "The code for this example is:\n",
    "\n",
    "```\n",
    "\n",
    "[![Image](https://i.ytimg.com/vi/aQaRXdabug0/hqdefault.jpg?custom=true&w=196&h=110&stc=true&jpg444=true&jpgq=90&sp=68&sigh=tZcrGm6OdaCxO6_3-31E4kafygM)](https://www.youtube.com/watch?v=aQaRXdabug0 \"NanoHUB Is AWESOME\")\n",
    "\n",
    "```\n",
    "\n",
    "###### [Go to Index](#index)  "
   ]
  },
  {
   "cell_type": "markdown",
   "metadata": {},
   "source": [
    "<a id='quotesLink'></a>  \n",
    "## Quotes"
   ]
  },
  {
   "cell_type": "markdown",
   "metadata": {},
   "source": [
    "To create the effect of quoting you will put the greater than symbol before the lines like in the following example.\n",
    "\n",
    "> \"In very truth he was, the noblest work of God\" -- an honest man.\n",
    "\n",
    ">--February 8, 1842 Eulogy of Benjamin Ferguson *separate paragraph*\n",
    "\n",
    "> Abraham Lincoln\n",
    "\n",
    "> [Quote reference](http://www.abrahamlincolnonline.org/lincoln/speeches/quotes.htm)\n",
    "\n",
    "This is the code of the preveous example:\n",
    "\n",
    "``` \n",
    "> \"In very truth he was, the noblest work of God\" -- an honest man.\n",
    ">--February 8, 1842 Eulogy of Benjamin Ferguson\n",
    "\n",
    "> Abraham Lincoln\n",
    "\n",
    "> [Quote reference](http://www.abrahamlincolnonline.org/lincoln/speeches/quotes.htm)\n",
    "```\n",
    "\n",
    "###### [Go to Index](#index)  \n",
    "---\n"
   ]
  },
  {
   "cell_type": "markdown",
   "metadata": {},
   "source": [
    "<a id='codeLink'></a>  \n",
    "## Embedded Code"
   ]
  },
  {
   "cell_type": "markdown",
   "metadata": {},
   "source": [
    "You can use just use python code or you can also use code block like the following:"
   ]
  },
  {
   "cell_type": "code",
   "execution_count": 1,
   "metadata": {
    "collapsed": false
   },
   "outputs": [
    {
     "data": {
      "text/html": [
       "<div>\n",
       "<table border=\"1\" class=\"dataframe\">\n",
       "  <thead>\n",
       "    <tr style=\"text-align: right;\">\n",
       "      <th></th>\n",
       "      <th>0</th>\n",
       "      <th>1</th>\n",
       "      <th>2</th>\n",
       "    </tr>\n",
       "  </thead>\n",
       "  <tbody>\n",
       "    <tr>\n",
       "      <th>0</th>\n",
       "      <td>0.103697</td>\n",
       "      <td>0.679376</td>\n",
       "      <td>0.994331</td>\n",
       "    </tr>\n",
       "    <tr>\n",
       "      <th>1</th>\n",
       "      <td>0.379615</td>\n",
       "      <td>0.603027</td>\n",
       "      <td>0.088882</td>\n",
       "    </tr>\n",
       "    <tr>\n",
       "      <th>2</th>\n",
       "      <td>0.277666</td>\n",
       "      <td>0.577502</td>\n",
       "      <td>0.047196</td>\n",
       "    </tr>\n",
       "  </tbody>\n",
       "</table>\n",
       "</div>"
      ],
      "text/plain": [
       "          0         1         2\n",
       "0  0.103697  0.679376  0.994331\n",
       "1  0.379615  0.603027  0.088882\n",
       "2  0.277666  0.577502  0.047196"
      ]
     },
     "execution_count": 1,
     "metadata": {},
     "output_type": "execute_result"
    }
   ],
   "source": [
    "import pandas as pd\n",
    "import numpy as np\n",
    "x = pd.DataFrame(np.random.random((3, 3)))\n",
    "x"
   ]
  },
  {
   "cell_type": "markdown",
   "metadata": {},
   "source": [
    "###### [Go to Index](#index)  "
   ]
  },
  {
   "cell_type": "markdown",
   "metadata": {},
   "source": [
    "---"
   ]
  },
  {
   "cell_type": "markdown",
   "metadata": {},
   "source": [
    "<a id='LatexLink'></a>  \n",
    "## LaTeX\n",
    "\n",
    ">LaTeX is a high-quality typesetting system; it includes features designed for the production of technical and scientific documentation. LaTeX is the de facto standard for the communication and publication of scientific documents.\n",
    ">[Latex website link](https://www.latex-project.org/)\n",
    "\n",
    "So you can create formulas like \n",
    "1. $$y \\approx x^2 - z*t + u\\times  w . a + \\frac {m} {n-1}$$ \n",
    "2. $$0 \\leq x \\geq 1 $$"
   ]
  },
  {
   "cell_type": "markdown",
   "metadata": {},
   "source": [
    "This is the code for the preveous example: \n",
    "\n",
    "1. ``` $$y \\approx x^2 - z*t + u\\times  w . a + \\frac {m} {n-1}$$ ```\n",
    "\n",
    "2. ``` $$0 \\leq x \\geq 1 $$```\n",
    "\n",
    "There is more detail about the math-mode syntaxis.\n",
    "\n",
    "![Math symbols](https://wch.github.io/latexsheet/latexsheet-1.png)\n",
    "Source: [Latex](https://wch.github.io/latexsheet/)\n",
    "\n",
    "###### [Go to Index](#index)  "
   ]
  },
  {
   "cell_type": "markdown",
   "metadata": {},
   "source": [
    "---"
   ]
  },
  {
   "cell_type": "markdown",
   "metadata": {},
   "source": [
    "<a id='GLLink'></a>  \n",
    "### Greek letters in Jupyter"
   ]
  },
  {
   "cell_type": "markdown",
   "metadata": {},
   "source": [
    "Here it is the sheet of the codes for each greek letter that you may use.\n",
    "\n",
    "![Greek letters](http://web.ift.uib.no/Teori/KURS/WRK/TeX/t1.gif)\n",
    "\n",
    "[Source link](http://web.ift.uib.no/Teori/KURS/WRK/TeX/sym1.html)\n",
    "\n",
    "###### [Go to Index](#index)  "
   ]
  },
  {
   "cell_type": "markdown",
   "metadata": {},
   "source": [
    "<a id='tables'></a>\n",
    "## Tables\n",
    "In this way you can merge columns.\n",
    "```\n",
    "| Jupyter![Title 1][image]  | Community![Title 2][image2]                   |![T3][image3]   |\n",
    "| ------------------------- |:---------------------------------------------:| --------------:|\n",
    "| xxx                       | <ol><li>ordered element</li><li>Milk</li></ol>|    element3    |\n",
    "| xxx                       | row 2                                         |     </br>      |\n",
    " \n",
    "[image]: <http://jupyter.org/assets/nav_logo.svg>\n",
    "[image2]: <http://jupyter.org/assets/community.svg>\n",
    "[image3]: <https://nbviewer.jupyter.org/static/img/example-nb/ipython-thumb.png>\n",
    "```  \n",
    "\n",
    "This will be the output:\n",
    "\n",
    "| Jupyter![Title 1][image]  | Community![Title 2][image2]                   |![T3][image3]   |\n",
    "| ------------------------- |:---------------------------------------------:| --------------:|\n",
    "| xxx                       | <ol><li>ordered element</li><li>Milk</li></ol>|    element3    |\n",
    "| xxx                       | row 2                                         |     </br>      |\n",
    " \n",
    "[image]: <http://jupyter.org/assets/nav_logo.svg>\n",
    "[image2]: <http://jupyter.org/assets/community.svg>\n",
    "[image3]: <https://nbviewer.jupyter.org/static/img/example-nb/ipython-thumb.png>\n",
    "\n",
    "###### [Go to Index](#index)  \n",
    "---"
   ]
  },
  {
   "cell_type": "markdown",
   "metadata": {},
   "source": [
    "<a id='FRLink'></a>\n",
    "## Further reading:\n",
    "[Markdown tutorial](https://github.com/adam-p/markdown-here/wiki/Markdown-Cheatsheet)  \n",
    "[Advance tricks](https://blog.dominodatalab.com/lesser-known-ways-of-using-notebooks/)  \n",
    "[Even more detail](http://stackoverflow.com/editing-help)\n",
    "\n",
    "###### [Go to Index](#index)  "
   ]
  },
  {
   "cell_type": "markdown",
   "metadata": {},
   "source": [
    "## References\n",
    "\n",
    "* Index creation code\n",
    "    [Sebastian Raschka]\n",
    "* Content in general \n",
    "    * [Roshan]\n",
    "    * [Adam Pritchard]\n",
    "\n",
    "\n",
    "[Sebastian Raschka]: <http://sebastianraschka.com/>\n",
    "[Roshan]:<https://www.youtube.com/user/roshanRush>\n",
    "[Adam Pritchard]: <https://github.com/adam-p>\n",
    "\n",
    "###### [Go to Index](#index)  "
   ]
  }
 ],
 "metadata": {
  "kernelspec": {
   "display_name": "Python 3",
   "language": "python",
   "name": "python3"
  },
  "language_info": {
   "codemirror_mode": {
    "name": "ipython",
    "version": 3
   },
   "file_extension": ".py",
   "mimetype": "text/x-python",
   "name": "python",
   "nbconvert_exporter": "python",
   "pygments_lexer": "ipython3",
   "version": "3.5.1"
  }
 },
 "nbformat": 4,
 "nbformat_minor": 0
}
